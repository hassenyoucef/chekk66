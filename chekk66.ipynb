{
 "cells": [
  {
   "cell_type": "code",
   "execution_count": 1,
   "id": "8478e0b8",
   "metadata": {},
   "outputs": [],
   "source": [
    "\n",
    "import numpy as new"
   ]
  },
  {
   "cell_type": "code",
   "execution_count": 7,
   "id": "0640c601",
   "metadata": {},
   "outputs": [
    {
     "name": "stdout",
     "output_type": "stream",
     "text": [
      "[[1 2 3]\n",
      " [5 6 7]]\n"
     ]
    }
   ],
   "source": [
    "new_array=new.array([[1,2,3],[5,6,7]])\n",
    "print(new_array)"
   ]
  },
  {
   "cell_type": "code",
   "execution_count": 15,
   "id": "05e6522d",
   "metadata": {},
   "outputs": [
    {
     "name": "stdout",
     "output_type": "stream",
     "text": [
      "[[0 1 2]\n",
      " [3 4 5]\n",
      " [6 7 8]]\n"
     ]
    }
   ],
   "source": [
    "a=new.array([[0,1,2],[3,4,5],[6,7,8,]])\n",
    "print (a)"
   ]
  },
  {
   "cell_type": "code",
   "execution_count": 16,
   "id": "272874c4",
   "metadata": {},
   "outputs": [
    {
     "data": {
      "text/plain": [
       "8"
      ]
     },
     "execution_count": 16,
     "metadata": {},
     "output_type": "execute_result"
    }
   ],
   "source": [
    "a[2,2]"
   ]
  },
  {
   "cell_type": "code",
   "execution_count": 19,
   "id": "b4f43998",
   "metadata": {},
   "outputs": [
    {
     "name": "stdout",
     "output_type": "stream",
     "text": [
      "[[0.56937614 0.00753219]\n",
      " [0.0039249  0.57216464]]\n"
     ]
    }
   ],
   "source": [
    "array=new.random.random((2,2))\n",
    "print(array)"
   ]
  },
  {
   "cell_type": "code",
   "execution_count": 23,
   "id": "5ee5a640",
   "metadata": {
    "scrolled": true
   },
   "outputs": [
    {
     "name": "stdout",
     "output_type": "stream",
     "text": [
      "[[3 9 9 9]\n",
      " [4 6 3 4]]\n"
     ]
    }
   ],
   "source": [
    "array=new.random.randint(2,10, size=(2,4))\n",
    "print(array)\n"
   ]
  },
  {
   "cell_type": "code",
   "execution_count": 32,
   "id": "39324b1b",
   "metadata": {},
   "outputs": [
    {
     "name": "stdout",
     "output_type": "stream",
     "text": [
      "[7, 34, 6, 7, 6, 7, 9, 0]\n"
     ]
    }
   ],
   "source": [
    "from array import *\n",
    "def array_list(array_num):\n",
    "    num_list = array_num.tolist() # list\n",
    "    print(num_list)\n",
    "  \n",
    "# driver code\n",
    "array_num = array('i', [7,34,6,7,6,7,9,0]) # array\n",
    "array_list(array_num)"
   ]
  },
  {
   "cell_type": "code",
   "execution_count": 46,
   "id": "098a1066",
   "metadata": {},
   "outputs": [
    {
     "name": "stdout",
     "output_type": "stream",
     "text": [
      "num_list\n"
     ]
    }
   ],
   "source": [
    "from array import *\n",
    "def array_list(array_num):\n",
    "    num_list = array_num.tolist()\n",
    "    print(\"num_list\")\n",
    "    \n",
    "array_num = array ('i' , [12,45,767,90,0,0]) \n",
    "array_list(array_num)"
   ]
  },
  {
   "cell_type": "code",
   "execution_count": 51,
   "id": "c08f7521",
   "metadata": {},
   "outputs": [],
   "source": [
    "array_num = array('i',[7,34,6,7,6,7,9,0]) # array\n",
    "liste=array_num.tolist()"
   ]
  },
  {
   "cell_type": "code",
   "execution_count": 52,
   "id": "97cfa843",
   "metadata": {},
   "outputs": [
    {
     "data": {
      "text/plain": [
       "[7, 34, 6, 7, 6, 7, 9, 0]"
      ]
     },
     "execution_count": 52,
     "metadata": {},
     "output_type": "execute_result"
    }
   ],
   "source": [
    "liste"
   ]
  },
  {
   "cell_type": "code",
   "execution_count": 54,
   "id": "fdc2d9a7",
   "metadata": {},
   "outputs": [],
   "source": [
    "array=new.array([1,2,3,4,5,6,7,8])\n",
    "liste=array.tolist()"
   ]
  },
  {
   "cell_type": "code",
   "execution_count": 55,
   "id": "9ed1d084",
   "metadata": {},
   "outputs": [
    {
     "data": {
      "text/plain": [
       "[1, 2, 3, 4, 5, 6, 7, 8]"
      ]
     },
     "execution_count": 55,
     "metadata": {},
     "output_type": "execute_result"
    }
   ],
   "source": [
    "liste"
   ]
  },
  {
   "cell_type": "code",
   "execution_count": 60,
   "id": "86b71074",
   "metadata": {},
   "outputs": [],
   "source": [
    "array=new.array (([1,2,3],[4,5,6],[7,8,9]))\n",
    "array= array.trace()\n"
   ]
  },
  {
   "cell_type": "code",
   "execution_count": 59,
   "id": "5485ad1c",
   "metadata": {},
   "outputs": [
    {
     "data": {
      "text/plain": [
       "<function ndarray.trace>"
      ]
     },
     "execution_count": 59,
     "metadata": {},
     "output_type": "execute_result"
    }
   ],
   "source": [
    "array"
   ]
  },
  {
   "cell_type": "code",
   "execution_count": 61,
   "id": "9eb03d52",
   "metadata": {},
   "outputs": [
    {
     "data": {
      "text/plain": [
       "15"
      ]
     },
     "execution_count": 61,
     "metadata": {},
     "output_type": "execute_result"
    }
   ],
   "source": [
    "array"
   ]
  },
  {
   "cell_type": "code",
   "execution_count": 72,
   "id": "1aff0696",
   "metadata": {},
   "outputs": [
    {
     "ename": "IndentationError",
     "evalue": "unexpected indent (3004427042.py, line 2)",
     "output_type": "error",
     "traceback": [
      "\u001b[1;36m  Input \u001b[1;32mIn [72]\u001b[1;36m\u001b[0m\n\u001b[1;33m    for i in array :\u001b[0m\n\u001b[1;37m    ^\u001b[0m\n\u001b[1;31mIndentationError\u001b[0m\u001b[1;31m:\u001b[0m unexpected indent\n"
     ]
    }
   ],
   "source": [
    "array = new.array(([1,2],[3,5]))\n",
    "   for i in array :\n",
    "if array[i] >= 2 :\n",
    "    print (array(i))\n",
    "\n"
   ]
  },
  {
   "cell_type": "code",
   "execution_count": 101,
   "id": "47206083",
   "metadata": {},
   "outputs": [
    {
     "name": "stdout",
     "output_type": "stream",
     "text": [
      "enter a number of colone : jj\n"
     ]
    },
    {
     "ename": "ValueError",
     "evalue": "invalid literal for int() with base 10: 'jj'",
     "output_type": "error",
     "traceback": [
      "\u001b[1;31m---------------------------------------------------------------------------\u001b[0m",
      "\u001b[1;31mValueError\u001b[0m                                Traceback (most recent call last)",
      "Input \u001b[1;32mIn [101]\u001b[0m, in \u001b[0;36m<cell line: 1>\u001b[1;34m()\u001b[0m\n\u001b[1;32m----> 1\u001b[0m colone\u001b[38;5;241m=\u001b[39m\u001b[38;5;28;43mint\u001b[39;49m\u001b[43m \u001b[49m\u001b[43m(\u001b[49m\u001b[38;5;28;43minput\u001b[39;49m\u001b[43m(\u001b[49m\u001b[38;5;124;43m\"\u001b[39;49m\u001b[38;5;124;43menter a number of colone : \u001b[39;49m\u001b[38;5;124;43m\"\u001b[39;49m\u001b[43m \u001b[49m\u001b[43m)\u001b[49m\u001b[43m)\u001b[49m\n\u001b[0;32m      2\u001b[0m line\u001b[38;5;241m=\u001b[39m\u001b[38;5;28mint\u001b[39m (\u001b[38;5;28minput\u001b[39m(\u001b[38;5;124m\"\u001b[39m\u001b[38;5;124menter a number of line : \u001b[39m\u001b[38;5;124m\"\u001b[39m ))\n\u001b[0;32m      4\u001b[0m array\u001b[38;5;241m=\u001b[39mnew\u001b[38;5;241m.\u001b[39mrandom\u001b[38;5;241m.\u001b[39mrandint (\u001b[38;5;241m0\u001b[39m,\u001b[38;5;241m9\u001b[39m ,size\u001b[38;5;241m=\u001b[39m(\u001b[38;5;241m10\u001b[39m,\u001b[38;5;241m10\u001b[39m))\n",
      "\u001b[1;31mValueError\u001b[0m: invalid literal for int() with base 10: 'jj'"
     ]
    }
   ],
   "source": [
    "colone=int (input(\"enter a number of colone : \" ))\n",
    "line=int (input(\"enter a number of line : \" ))\n",
    "             \n",
    "array=new.random.randint (0,9 ,size=(10,10))\n",
    "           \n",
    "x=int (input('enter a nuber'))\n",
    "liste=[]\n",
    "       \n",
    "for i in range (colone) :\n",
    "       \n",
    "    for j in range (line) :\n",
    "       \n",
    "        if array [i,j] > x :\n",
    "       \n",
    "            liste. append(array[i,j])\n",
    "             \n",
    "\n",
    "             \n",
    "print(liste)            \n",
    "             \n",
    "             "
   ]
  },
  {
   "cell_type": "markdown",
   "id": "d4309fb8",
   "metadata": {},
   "source": [
    "# QUETION 3"
   ]
  },
  {
   "cell_type": "code",
   "execution_count": 105,
   "id": "638d3a7f",
   "metadata": {},
   "outputs": [
    {
     "name": "stdout",
     "output_type": "stream",
     "text": [
      "give A x :2\n",
      "[23  8 89  9]\n"
     ]
    }
   ],
   "source": [
    "array=new.array([23,8,89,9,0])\n",
    "x=int(input (\"give A x :\"))\n",
    "print(array[array>x])\n"
   ]
  },
  {
   "cell_type": "markdown",
   "id": "3a2c8911",
   "metadata": {},
   "source": [
    "# questin4\n",
    "\n"
   ]
  },
  {
   "cell_type": "code",
   "execution_count": 109,
   "id": "cfa72ad1",
   "metadata": {},
   "outputs": [],
   "source": [
    "array1=new.array([[1,2,3],[4,5,6],[7,5,9]])\n",
    "array2=new.array([[4,2,3],[7,5,6],[7,2,9]])\n",
    "\n",
    "array3=new.add(array1,array2)"
   ]
  },
  {
   "cell_type": "code",
   "execution_count": 110,
   "id": "ab811c6b",
   "metadata": {},
   "outputs": [
    {
     "data": {
      "text/plain": [
       "array([[ 5,  4,  6],\n",
       "       [11, 10, 12],\n",
       "       [14,  7, 18]])"
      ]
     },
     "execution_count": 110,
     "metadata": {},
     "output_type": "execute_result"
    }
   ],
   "source": [
    "array3"
   ]
  },
  {
   "cell_type": "raw",
   "id": "0dafb7dc",
   "metadata": {},
   "source": []
  },
  {
   "cell_type": "code",
   "execution_count": 8,
   "id": "cc5efb0c",
   "metadata": {},
   "outputs": [
    {
     "name": "stdout",
     "output_type": "stream",
     "text": [
      "[2. 5. 7.]\n",
      "[[-1. -3. -4.]\n",
      " [ 2.  0. -1.]\n",
      " [ 5.  0.  2.]]\n"
     ]
    }
   ],
   "source": [
    "array1=new.array([[1,2,3],[4,5,6],[7,5,9]])\n",
    "a=new.mean(array1,axis=1)\n",
    "print(a)\n",
    "print(array1-a)"
   ]
  },
  {
   "cell_type": "code",
   "execution_count": null,
   "id": "71ac6bfb",
   "metadata": {},
   "outputs": [],
   "source": []
  }
 ],
 "metadata": {
  "kernelspec": {
   "display_name": "Python 3 (ipykernel)",
   "language": "python",
   "name": "python3"
  },
  "language_info": {
   "codemirror_mode": {
    "name": "ipython",
    "version": 3
   },
   "file_extension": ".py",
   "mimetype": "text/x-python",
   "name": "python",
   "nbconvert_exporter": "python",
   "pygments_lexer": "ipython3",
   "version": "3.9.12"
  }
 },
 "nbformat": 4,
 "nbformat_minor": 5
}
